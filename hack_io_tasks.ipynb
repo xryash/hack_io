{
 "cells": [
  {
   "cell_type": "code",
   "execution_count": 148,
   "metadata": {},
   "outputs": [],
   "source": [
    "# init imports\n",
    "import pandas as pd\n",
    "import sqlalchemy as sa\n",
    "import psycopg2\n",
    "import matplotlib.pyplot as plt\n",
    "import datetime"
   ]
  },
  {
   "cell_type": "code",
   "execution_count": 76,
   "metadata": {},
   "outputs": [],
   "source": [
    "# create postgresql database with docker and init params for connection\n",
    "# docker run  --name io-postgres -e POSTGRES_USER=master -e POSTGRES_PASSWORD=master-postgres-token -e POSTGRES_DB=io_db  -d  -p 5050:5432 postgres\n",
    "host = 'localhost'\n",
    "database = 'io_db'\n",
    "port = 5050\n",
    "user = 'master'\n",
    "password = 'master-postgres-token'"
   ]
  },
  {
   "cell_type": "code",
   "execution_count": 77,
   "metadata": {},
   "outputs": [],
   "source": [
    "# prepare url and engine\n",
    "url = 'postgresql://{0}:{1}@{2}:{3}/{4}'.format(user, password, host, port, database)\n",
    "engine = sa.create_engine(url)"
   ]
  },
  {
   "cell_type": "code",
   "execution_count": 78,
   "metadata": {},
   "outputs": [],
   "source": [
    "def create_table(q, engine):\n",
    "    \"\"\"Create table with query and engine\"\"\"\n",
    "    with engine.connect() as con:\n",
    "        con.execute(q)"
   ]
  },
  {
   "cell_type": "code",
   "execution_count": 79,
   "metadata": {},
   "outputs": [],
   "source": [
    "def insert_values(v, engine):\n",
    "    \"\"\"Insert values into database\"\"\"\n",
    "    with engine.connect() as con:\n",
    "        for value in v:\n",
    "            con.execute(value)"
   ]
  },
  {
   "cell_type": "code",
   "execution_count": 80,
   "metadata": {},
   "outputs": [],
   "source": [
    "# create a table\n",
    "prices_table_q = (\n",
    "    \"\"\"        \n",
    "        CREATE TABLE Prices (\n",
    "            date_start DATE NOT NULL,\n",
    "            product VARCHAR(8) NOT NULL,\n",
    "            price INT NOT NULL\n",
    "        )\n",
    "    \"\"\"\n",
    ")\n",
    "create_table(prices_table_q, engine)"
   ]
  },
  {
   "cell_type": "code",
   "execution_count": 81,
   "metadata": {},
   "outputs": [],
   "source": [
    "# insert values\n",
    "prices_table_v = (\n",
    "    \"\"\"INSERT INTO Prices VALUES ('1970-01-01', 'A', 20) \"\"\",\n",
    "    \"\"\"INSERT INTO Prices VALUES ('2019-02-04', 'B', 45) \"\"\",\n",
    "    \"\"\"INSERT INTO Prices VALUES ('2018-05-11', 'A', 27) \"\"\",\n",
    ")\n",
    "insert_values(prices_table_v, engine)"
   ]
  },
  {
   "cell_type": "code",
   "execution_count": 82,
   "metadata": {},
   "outputs": [
    {
     "data": {
      "text/html": [
       "<div>\n",
       "<style scoped>\n",
       "    .dataframe tbody tr th:only-of-type {\n",
       "        vertical-align: middle;\n",
       "    }\n",
       "\n",
       "    .dataframe tbody tr th {\n",
       "        vertical-align: top;\n",
       "    }\n",
       "\n",
       "    .dataframe thead th {\n",
       "        text-align: right;\n",
       "    }\n",
       "</style>\n",
       "<table border=\"1\" class=\"dataframe\">\n",
       "  <thead>\n",
       "    <tr style=\"text-align: right;\">\n",
       "      <th></th>\n",
       "      <th>date_start</th>\n",
       "      <th>product</th>\n",
       "      <th>price</th>\n",
       "    </tr>\n",
       "  </thead>\n",
       "  <tbody>\n",
       "    <tr>\n",
       "      <th>0</th>\n",
       "      <td>1970-01-01</td>\n",
       "      <td>A</td>\n",
       "      <td>20</td>\n",
       "    </tr>\n",
       "    <tr>\n",
       "      <th>1</th>\n",
       "      <td>2019-02-04</td>\n",
       "      <td>B</td>\n",
       "      <td>45</td>\n",
       "    </tr>\n",
       "    <tr>\n",
       "      <th>2</th>\n",
       "      <td>2018-05-11</td>\n",
       "      <td>A</td>\n",
       "      <td>27</td>\n",
       "    </tr>\n",
       "  </tbody>\n",
       "</table>\n",
       "</div>"
      ],
      "text/plain": [
       "   date_start product  price\n",
       "0  1970-01-01       A     20\n",
       "1  2019-02-04       B     45\n",
       "2  2018-05-11       A     27"
      ]
     },
     "execution_count": 82,
     "metadata": {},
     "output_type": "execute_result"
    }
   ],
   "source": [
    "# check a table and values\n",
    "df = pd.read_sql_query('select * from Prices',con=engine)\n",
    "df"
   ]
  },
  {
   "cell_type": "code",
   "execution_count": 83,
   "metadata": {},
   "outputs": [
    {
     "data": {
      "text/html": [
       "<div>\n",
       "<style scoped>\n",
       "    .dataframe tbody tr th:only-of-type {\n",
       "        vertical-align: middle;\n",
       "    }\n",
       "\n",
       "    .dataframe tbody tr th {\n",
       "        vertical-align: top;\n",
       "    }\n",
       "\n",
       "    .dataframe thead th {\n",
       "        text-align: right;\n",
       "    }\n",
       "</style>\n",
       "<table border=\"1\" class=\"dataframe\">\n",
       "  <thead>\n",
       "    <tr style=\"text-align: right;\">\n",
       "      <th></th>\n",
       "      <th>date</th>\n",
       "      <th>product</th>\n",
       "      <th>actual_price</th>\n",
       "    </tr>\n",
       "  </thead>\n",
       "  <tbody>\n",
       "    <tr>\n",
       "      <th>0</th>\n",
       "      <td>2019-02-04</td>\n",
       "      <td>B</td>\n",
       "      <td>45</td>\n",
       "    </tr>\n",
       "    <tr>\n",
       "      <th>1</th>\n",
       "      <td>2018-05-11</td>\n",
       "      <td>A</td>\n",
       "      <td>27</td>\n",
       "    </tr>\n",
       "  </tbody>\n",
       "</table>\n",
       "</div>"
      ],
      "text/plain": [
       "         date product  actual_price\n",
       "0  2019-02-04       B            45\n",
       "1  2018-05-11       A            27"
      ]
     },
     "execution_count": 83,
     "metadata": {},
     "output_type": "execute_result"
    }
   ],
   "source": [
    "# return actual prices\n",
    "q = (\n",
    "    \"\"\"\n",
    "        SELECT date_start as date, product, price as actual_price\n",
    "        FROM Prices\n",
    "        WHERE date_start = (select MAX(date_start) FROM Prices as temp WHERE temp.product  = Prices.product)\n",
    "    \"\"\"       \n",
    ")\n",
    "\n",
    "df = pd.read_sql_query(q,con=engine)\n",
    "df"
   ]
  },
  {
   "cell_type": "code",
   "execution_count": 84,
   "metadata": {},
   "outputs": [
    {
     "data": {
      "text/plain": [
       "((datetime.date(1970, 1, 1), datetime.date(2018, 5, 11)), (20, 27))"
      ]
     },
     "execution_count": 84,
     "metadata": {},
     "output_type": "execute_result"
    }
   ],
   "source": [
    "# return tuple of dates and prices\n",
    "q = (\n",
    "    \"\"\"\n",
    "        SELECT date_start, price\n",
    "        FROM Prices\n",
    "        WHERE product = %(product_name)s\n",
    "        ORDER BY date_start ASC\n",
    "        \n",
    "    \"\"\"\n",
    ")\n",
    "\n",
    "def get_data_by_product_name(product_name, q, engine):\n",
    "    \"\"\"Get prices and start dates by product name\"\"\"\n",
    "    df = pd.read_sql_query(q,con=engine,\n",
    "                      params={'product_name':product_name})\n",
    "    return tuple(zip(df.values[0],df.values[1]))\n",
    "\n",
    "values = get_data_by_product_name('A', q, engine)\n",
    "\n",
    "values\n"
   ]
  },
  {
   "cell_type": "code",
   "execution_count": 85,
   "metadata": {},
   "outputs": [],
   "source": [
    "# create a sales table\n",
    "sales_table_q = (\n",
    "    \"\"\"\n",
    "        CREATE TABLE Sales (\n",
    "            product VARCHAR(8) NOT NULL,\n",
    "            date DATE NOT NULL,\n",
    "            amount INT NOT NULL,\n",
    "            country VARCHAR(8) NOT NULL\n",
    "        )\n",
    "    \n",
    "    \"\"\"\n",
    ")\n",
    "create_table(sales_table_q, engine)"
   ]
  },
  {
   "cell_type": "code",
   "execution_count": 86,
   "metadata": {},
   "outputs": [],
   "source": [
    "# insert values\n",
    "sales_table_v = (\n",
    "    \"\"\"INSERT INTO Sales VALUES ('A','2019-02-15', 92, 'RU') \"\"\",\n",
    "    \"\"\"INSERT INTO Sales VALUES ('B','2019-05-06', 113, 'GB') \"\"\",\n",
    "    \"\"\"INSERT INTO Sales VALUES ('B','2019-06-20', 12, 'NA') \"\"\",\n",
    ")\n",
    "insert_values(sales_table_v, engine)"
   ]
  },
  {
   "cell_type": "code",
   "execution_count": 87,
   "metadata": {},
   "outputs": [
    {
     "data": {
      "text/html": [
       "<div>\n",
       "<style scoped>\n",
       "    .dataframe tbody tr th:only-of-type {\n",
       "        vertical-align: middle;\n",
       "    }\n",
       "\n",
       "    .dataframe tbody tr th {\n",
       "        vertical-align: top;\n",
       "    }\n",
       "\n",
       "    .dataframe thead th {\n",
       "        text-align: right;\n",
       "    }\n",
       "</style>\n",
       "<table border=\"1\" class=\"dataframe\">\n",
       "  <thead>\n",
       "    <tr style=\"text-align: right;\">\n",
       "      <th></th>\n",
       "      <th>product</th>\n",
       "      <th>date</th>\n",
       "      <th>amount</th>\n",
       "      <th>country</th>\n",
       "    </tr>\n",
       "  </thead>\n",
       "  <tbody>\n",
       "    <tr>\n",
       "      <th>0</th>\n",
       "      <td>A</td>\n",
       "      <td>2019-02-15</td>\n",
       "      <td>92</td>\n",
       "      <td>RU</td>\n",
       "    </tr>\n",
       "    <tr>\n",
       "      <th>1</th>\n",
       "      <td>B</td>\n",
       "      <td>2019-05-06</td>\n",
       "      <td>113</td>\n",
       "      <td>GB</td>\n",
       "    </tr>\n",
       "    <tr>\n",
       "      <th>2</th>\n",
       "      <td>B</td>\n",
       "      <td>2019-06-20</td>\n",
       "      <td>12</td>\n",
       "      <td>NA</td>\n",
       "    </tr>\n",
       "  </tbody>\n",
       "</table>\n",
       "</div>"
      ],
      "text/plain": [
       "  product        date  amount country\n",
       "0       A  2019-02-15      92      RU\n",
       "1       B  2019-05-06     113      GB\n",
       "2       B  2019-06-20      12      NA"
      ]
     },
     "execution_count": 87,
     "metadata": {},
     "output_type": "execute_result"
    }
   ],
   "source": [
    "# check a sales table and values\n",
    "df = pd.read_sql_query('select * from Sales',con=engine)\n",
    "df"
   ]
  },
  {
   "cell_type": "code",
   "execution_count": 126,
   "metadata": {},
   "outputs": [],
   "source": [
    "def compute_revenue(engine):\n",
    "    \"\"\"Return a table with computing revenue\"\"\"\n",
    "    q = (\n",
    "    \"\"\"\n",
    "        SELECT Sales.product, Sales.date, Sales.amount, Sales.country, (prices_and_dates.price * Sales.amount) AS revenue \n",
    "        FROM Sales \n",
    "        INNER JOIN\n",
    "            (\n",
    "                SELECT Prices.price, nearest_dates.date\n",
    "                FROM Prices\n",
    "                INNER JOIN\n",
    "                    (\n",
    "                        SELECT Sales.date, MAX( Prices.date_start ) AS nearest_date\n",
    "                        FROM Sales\n",
    "                        INNER JOIN Prices ON Sales.date > Prices.date_start AND Sales.product  = Prices.product\n",
    "                        GROUP BY Sales.date\n",
    "                    ) AS nearest_dates \n",
    "                ON nearest_dates.nearest_date = Prices.date_start\n",
    "            ) AS prices_and_dates\n",
    "        ON prices_and_dates.date = Sales.date\n",
    "    \"\"\"\n",
    "    )\n",
    "    return pd.read_sql_query(q,con=engine)\n"
   ]
  },
  {
   "cell_type": "code",
   "execution_count": 128,
   "metadata": {},
   "outputs": [
    {
     "data": {
      "text/html": [
       "<div>\n",
       "<style scoped>\n",
       "    .dataframe tbody tr th:only-of-type {\n",
       "        vertical-align: middle;\n",
       "    }\n",
       "\n",
       "    .dataframe tbody tr th {\n",
       "        vertical-align: top;\n",
       "    }\n",
       "\n",
       "    .dataframe thead th {\n",
       "        text-align: right;\n",
       "    }\n",
       "</style>\n",
       "<table border=\"1\" class=\"dataframe\">\n",
       "  <thead>\n",
       "    <tr style=\"text-align: right;\">\n",
       "      <th></th>\n",
       "      <th>product</th>\n",
       "      <th>date</th>\n",
       "      <th>amount</th>\n",
       "      <th>country</th>\n",
       "      <th>revenue</th>\n",
       "    </tr>\n",
       "  </thead>\n",
       "  <tbody>\n",
       "    <tr>\n",
       "      <th>0</th>\n",
       "      <td>B</td>\n",
       "      <td>2019-06-20</td>\n",
       "      <td>12</td>\n",
       "      <td>NA</td>\n",
       "      <td>540</td>\n",
       "    </tr>\n",
       "    <tr>\n",
       "      <th>1</th>\n",
       "      <td>B</td>\n",
       "      <td>2019-05-06</td>\n",
       "      <td>113</td>\n",
       "      <td>GB</td>\n",
       "      <td>5085</td>\n",
       "    </tr>\n",
       "    <tr>\n",
       "      <th>2</th>\n",
       "      <td>A</td>\n",
       "      <td>2019-02-15</td>\n",
       "      <td>92</td>\n",
       "      <td>RU</td>\n",
       "      <td>2484</td>\n",
       "    </tr>\n",
       "  </tbody>\n",
       "</table>\n",
       "</div>"
      ],
      "text/plain": [
       "  product        date  amount country  revenue\n",
       "0       B  2019-06-20      12      NA      540\n",
       "1       B  2019-05-06     113      GB     5085\n",
       "2       A  2019-02-15      92      RU     2484"
      ]
     },
     "execution_count": 128,
     "metadata": {},
     "output_type": "execute_result"
    }
   ],
   "source": [
    "df = compute_revenue(engine)\n",
    "df"
   ]
  },
  {
   "cell_type": "code",
   "execution_count": 150,
   "metadata": {},
   "outputs": [],
   "source": [
    "def pie_revenue(dataframe):\n",
    "    \"\"\"Plot proportional representation of revenue by country\"\"\"\n",
    "    new_df = pd.DataFrame({'revenue': dataframe['revenue'].values},index=dataframe['country'][:])\n",
    "    new_df.plot.pie(y='revenue', figsize=(10, 10))"
   ]
  },
  {
   "cell_type": "code",
   "execution_count": 153,
   "metadata": {},
   "outputs": [
    {
     "data": {
      "image/png": "[encoded data removed]",
      "text/plain": [
       "<Figure size 720x720 with 1 Axes>"
      ]
     },
     "metadata": {},
     "output_type": "display_data"
    }
   ],
   "source": [
    "df = pd.read_sql_query(q,con=engine)\n",
    "pie_revenue(df)"
   ]
  },
  {
   "cell_type": "code",
   "execution_count": 159,
   "metadata": {},
   "outputs": [],
   "source": [
    "def pie_revenue_with_periods(df, first, last):\n",
    "    \"\"\"Plot proportional representation of revenue by country over a period of time\"\"\"\n",
    "    first = datetime.datetime.strptime(first, '%Y-%m-%d').date()\n",
    "    last = datetime.datetime.strptime(last, '%Y-%m-%d').date()\n",
    "    df = df[(df['date'] > first) & (df['date'] < last)]\n",
    "    new_df = pd.DataFrame({'revenue': df['revenue'].values},index=df['country'])\n",
    "    new_df.plot.pie(y='revenue', figsize=(10, 10))"
   ]
  },
  {
   "cell_type": "code",
   "execution_count": 160,
   "metadata": {},
   "outputs": [
    {
     "data": {
      "image/png": "[encoded data removed]",
      "text/plain": [
       "<Figure size 720x720 with 1 Axes>"
      ]
     },
     "metadata": {},
     "output_type": "display_data"
    }
   ],
   "source": [
    "df = pd.read_sql_query(q,con=engine)\n",
    "pie_revenue_with_periods(df,'2019-02-01', '2019-05-01')"
   ]
  },
  {
   "cell_type": "code",
   "execution_count": null,
   "metadata": {},
   "outputs": [],
   "source": []
  }
 ],
 "metadata": {
  "kernelspec": {
   "display_name": "Python 3",
   "language": "python",
   "name": "python3"
  },
  "language_info": {
   "codemirror_mode": {
    "name": "ipython",
    "version": 3
   },
   "file_extension": ".py",
   "mimetype": "text/x-python",
   "name": "python",
   "nbconvert_exporter": "python",
   "pygments_lexer": "ipython3",
   "version": "3.7.3"
  }
 },
 "nbformat": 4,
 "nbformat_minor": 2
}
